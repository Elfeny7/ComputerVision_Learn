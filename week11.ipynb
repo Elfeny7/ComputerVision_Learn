{
  "nbformat": 4,
  "nbformat_minor": 0,
  "metadata": {
    "colab": {
      "provenance": [],
      "authorship_tag": "ABX9TyM+7qqw2uirT6jWgAt0q8FO",
      "include_colab_link": true
    },
    "kernelspec": {
      "name": "python3",
      "display_name": "Python 3"
    },
    "language_info": {
      "name": "python"
    }
  },
  "cells": [
    {
      "cell_type": "markdown",
      "metadata": {
        "id": "view-in-github",
        "colab_type": "text"
      },
      "source": [
        "<a href=\"https://colab.research.google.com/github/Elfeny7/ComputerVision_Learn/blob/main/week11.ipynb\" target=\"_parent\"><img src=\"https://colab.research.google.com/assets/colab-badge.svg\" alt=\"Open In Colab\"/></a>"
      ]
    },
    {
      "cell_type": "code",
      "execution_count": null,
      "metadata": {
        "id": "_7DonkfigkKc"
      },
      "outputs": [],
      "source": [
        "from google.colab import drive\n",
        "drive.mount('/content/drive')"
      ]
    },
    {
      "cell_type": "code",
      "source": [
        "import cv2 as cv\n",
        "import matplotlib.pyplot as plt\n",
        "import os\n",
        "import numpy as np\n",
        "from google.colab.patches import cv2_imshow"
      ],
      "metadata": {
        "id": "ddUCWDwFhk4F"
      },
      "execution_count": null,
      "outputs": []
    },
    {
      "cell_type": "code",
      "source": [
        "img = cv.imread('/content/drive/MyDrive/PCVK/week11/cats_and_bunnies.jpg')\n",
        "img_gray = cv.cvtColor(img,cv.COLOR_BGR2GRAY)\n",
        "img2 = img.copy()\n",
        "\n",
        "#load citra template\n",
        "template = cv.imread('/content/drive/MyDrive/PCVK/week11/cat2_templatejpg.jpg',0)\n",
        "# dimensi citra\n",
        "w, h = template.shape[::-1]\n",
        "\n",
        "# print input image dan template\n",
        "f, axarr = plt. subplots(1,2,figsize=(15,5)) #membuat 2 plot untuk citra input dan template\n",
        "axarr[0].imshow(cv.cvtColor(img, cv.COLOR_BGR2RGB)), axarr[0].set_title(\"input image\")\n",
        "axarr[1].imshow(cv.cvtColor(template, cv.COLOR_BGR2RGB)), axarr[1].set_title(\"template image\")\n",
        "\n",
        "# All the 6 methods for comparison in a list\n",
        "methods = ['cv.TM_CCOEFF', 'cv.TM_CCOEFF_NORMED', 'cv.TM_CCORR',\n",
        "            'cv.TM_CCORR_NORMED', 'cv.TM_SQDIFF', 'cv.TM_SQDIFF_NORMED']\n",
        "\n",
        "for meth in methods:\n",
        "    img = img2.copy()\n",
        "    method = eval(meth)\n",
        "    # Apply template Matching\n",
        "    res = cv.matchTemplate(img_gray,template,method)\n",
        "    min_val, max_val, min_loc, max_loc = cv.minMaxLoc(res)\n",
        "    # If the method is TM_SQDIFF or TM_SQDIFF_NORMED, take minimum\n",
        "    if method in [cv.TM_SQDIFF, cv.TM_SQDIFF_NORMED]:\n",
        "        top_left = min_loc\n",
        "    else:\n",
        "        top_left = max_loc\n",
        "    bottom_right = (top_left[0] + w, top_left[1] + h)\n",
        "\n",
        "    cv.rectangle(img,top_left, bottom_right,(0,0,255))\n",
        "    plt.figure(figsize=(15,5))\n",
        "    plt.subplot(121),plt.imshow(res,cmap = 'gray')\n",
        "    plt.title('Matching Result'), plt.xticks([]), plt.yticks([])\n",
        "    plt.subplot(122),plt.imshow(cv.cvtColor(img, cv.COLOR_BGR2RGB))\n",
        "    plt.title('Detected Point'), plt.xticks([]), plt.yticks([])\n",
        "    print(\"\\n\\n\")\n",
        "    plt.suptitle(meth, fontsize=20)\n",
        "    plt.show()"
      ],
      "metadata": {
        "id": "jnlqYYsMh1L0"
      },
      "execution_count": null,
      "outputs": []
    },
    {
      "cell_type": "code",
      "source": [
        "import cv2 as cv\n",
        "import numpy as np\n",
        "from matplotlib import pyplot as plt\n",
        "img_rgb = cv.imread('/content/drive/MyDrive/PCVK/week11/bahrain.jpg')\n",
        "assert img_rgb is not None, \"file could not be read, check with os.path.exists()\"\n",
        "img_gray = cv.cvtColor(img_rgb, cv.COLOR_BGR2GRAY)\n",
        "template = cv.imread('/content/drive/MyDrive/PCVK/week11/bahrain-template.jpg', cv.IMREAD_GRAYSCALE)\n",
        "assert template is not None, \"file could not be read, check with os.path.exists()\"\n",
        "w, h = template.shape[::-1]\n",
        "res = cv.matchTemplate(img_gray,template,cv.TM_CCOEFF_NORMED)\n",
        "threshold = 0.43\n",
        "loc = np.where( res >= threshold)\n",
        "for pt in zip(*loc[::-1]):\n",
        "    cv.rectangle(img_rgb, pt, (pt[0] + w, pt[1] + h), (0,255,255), 2)\n",
        "\n",
        "cv2_imshow(img_rgb)"
      ],
      "metadata": {
        "id": "Vwjwk48rjdO-"
      },
      "execution_count": null,
      "outputs": []
    },
    {
      "cell_type": "code",
      "source": [
        "from PIL import Image\n",
        "\n",
        "input_image = np.array(Image.open('/content/drive/MyDrive/PCVK/week11/bahrain.jpg'))\n",
        "template_image = np.array(Image.open('/content/drive/MyDrive/PCVK/week11/bahrain-template.jpg'))\n",
        "\n",
        "def template_matching(input_image, template):\n",
        "    input_height, input_width, _ = input_image.shape\n",
        "    template_height, template_width, _ = template.shape\n",
        "\n",
        "    # Initialize an array to store match scores\n",
        "    match_scores = np.zeros((input_height - template_height + 1, input_width - template_width + 1))\n",
        "\n",
        "    # Perform template matching\n",
        "    for y in range(input_height - template_height + 1):\n",
        "        for x in range(input_width - template_width + 1):\n",
        "            roi = input_image[y:y+template_height, x:x+template_width, :]\n",
        "            diff = np.abs(roi - template).mean()\n",
        "            match_scores[y, x] = diff\n",
        "\n",
        "    return match_scores\n",
        "\n",
        "# Perform template matching\n",
        "match_scores = template_matching(input_image, template_image)\n",
        "\n",
        "# Set a threshold to determine if a region matches the template\n",
        "threshold = 110\n",
        "\n",
        "# Find matched locations where the match score is below the threshold\n",
        "matched_locations = np.where(match_scores < threshold)\n",
        "\n",
        "# Create a copy of the input image to draw rectangles on\n",
        "output_image = input_image.copy()\n",
        "\n",
        "# Draw yellow rectangles around matched objects\n",
        "for y, x in zip(*matched_locations):\n",
        "    cv.rectangle(output_image, (x, y), (x + template_image.shape[1], y + template_image.shape[0]), (255, 255, 0), 2)\n",
        "\n",
        "# Display the results\n",
        "plt.figure(figsize=(12, 6))\n",
        "plt.subplot(121), plt.imshow(input_image), plt.title('Input Image')\n",
        "plt.subplot(122), plt.imshow(output_image), plt.title('Matched Objects')\n",
        "plt.show()"
      ],
      "metadata": {
        "id": "ffnEdTWbjf4G"
      },
      "execution_count": null,
      "outputs": []
    },
    {
      "cell_type": "code",
      "source": [
        "img0 = cv.imread('/content/drive/MyDrive/PCVK/week11/car-park.jpg')\n",
        "gray = cv.cvtColor(img0, cv.COLOR_BGR2GRAY)\n",
        "img = cv.GaussianBlur(gray, (3, 3), 0)\n",
        "\n",
        "img_sobelx = cv.Sobel(img, cv.CV_64F, 1, 0, ksize=3)\n",
        "img_sobely = cv.Sobel(img, cv.CV_64F, 0, 1, ksize=3)\n",
        "img_sobelxy = cv.addWeighted(cv.convertScaleAbs(img_sobelx), 0.5, cv.convertScaleAbs(img_sobely), 0.5, 0)\n",
        "\n",
        "edges_canny = cv.Canny(img, 100, 200)\n",
        "\n",
        "img_laplacian = cv.Laplacian(img, cv.CV_64F)\n",
        "img_laplacian = cv.convertScaleAbs(img_laplacian)\n",
        "\n",
        "f, axarr = plt.subplots(1, 4, figsize=(20, 5))\n",
        "\n",
        "axarr[0].imshow(cv.cvtColor(img0, cv.COLOR_BGR2RGB))\n",
        "axarr[0].set_title('Original Image')\n",
        "\n",
        "axarr[1].imshow(img_sobelxy, cmap='gray')\n",
        "axarr[1].set_title('Sobel Edge Detection')\n",
        "\n",
        "axarr[2].imshow(edges_canny, cmap='gray')\n",
        "axarr[2].set_title('Canny Edge Detection')\n",
        "\n",
        "axarr[3].imshow(img_laplacian, cmap='gray')\n",
        "axarr[3].set_title('Laplacian Edge Detection')\n",
        "\n",
        "plt.show()"
      ],
      "metadata": {
        "id": "kbguZUnljqxk"
      },
      "execution_count": null,
      "outputs": []
    },
    {
      "cell_type": "code",
      "source": [
        "#Harris Corner Detection\n",
        "\n",
        "#load citra input\n",
        "input_img = cv.imread('/content/drive/MyDrive/PCVK/week11/chess-board.jpg')\n",
        "gray_img = cv.cvtColor(input_img, cv.COLOR_BGR2GRAY)\n",
        "dst = cv.cornerHarris(gray_img,3,1,0.04)\n",
        "\n",
        "gray_img = np.float32(gray_img)\n",
        "harris_output = cv.cornerHarris(gray_img,2,3, 3)\n",
        "#hasil harris corner dilakukan dilasi untuk menandai sudut\n",
        "harris_output = cv.dilate(harris_output, None)\n",
        "\n",
        "#Threshold untuk mengoptimalkan nilai\n",
        "input_img[dst>0.01*dst.max()]=[0,0,255]\n",
        "\n",
        "plt.figure(figsize=(10,10))\n",
        "plt.imshow(cv.cvtColor(input_img, cv.COLOR_BGR2RGB))\n",
        ""
      ],
      "metadata": {
        "id": "lWctYoI5jwpi"
      },
      "execution_count": null,
      "outputs": []
    },
    {
      "cell_type": "code",
      "source": [
        "input_img = cv.imread('/content/drive/MyDrive/PCVK/week11/sudoku.jpg')\n",
        "img_gray = cv.cvtColor(input_img, cv.COLOR_BGR2GRAY)\n",
        "\n",
        "edges = cv.Canny (img_gray, 90, 150, apertureSize = 3)\n",
        "\n",
        "kernel = np.ones((3,3), np.uint8)\n",
        "edges = cv.dilate(edges,kernel,iterations = 1)\n",
        "\n",
        "kernel = np.ones((5,5), np.uint8)\n",
        "edges = cv.erode (edges, kernel, iterations = 1)\n",
        "\n",
        "lines = cv.HoughLines(edges,1,np.pi/180,150)\n",
        "\n",
        "\n",
        "if not lines.any():\n",
        "    print('No lines found')\n",
        "    exit()\n",
        "\n",
        "if filter:\n",
        "    rho_threshold = 15\n",
        "    theta_threshold = 0.1\n",
        "\n",
        "\n",
        "    similar_lines = {i : [] for i in range(len(lines))}\n",
        "    for i in range(len(lines)):\n",
        "      for j in range (len (lines)):\n",
        "        if i == j:\n",
        "            continue\n",
        "\n",
        "        rho_i, theta_i = lines[i][0]\n",
        "        rho_j, theta_j = lines[j][0]\n",
        "        if abs(rho_i - rho_j) < rho_threshold and abs (theta_i - theta_j) < theta_threshold:\n",
        "            similar_lines[i].append(j)\n",
        "\n",
        "    indices = [i for i in range(len(lines))]\n",
        "    indices.sort(key=lambda x: len(similar_lines[x]))\n",
        "\n",
        "    line_flags = len(lines) *[True]\n",
        "    for i in range(len(lines) - 1):\n",
        "        if not line_flags [indices[i]]:\n",
        "            continue\n",
        "\n",
        "        for j in range(i + 1, len(lines)):\n",
        "            if not line_flags[indices[j]]:\n",
        "                continue\n",
        "            rho_i, theta_i = lines[indices[i]][0]\n",
        "            rho_j, theta_j = lines[indices[j]][0]\n",
        "            if abs(rho_i - rho_j) < rho_threshold and abs(theta_i - theta_j) < theta_threshold:\n",
        "                line_flags [indices[j]] = False\n",
        "    print('number of Hough lines:', len(lines))\n",
        "\n",
        "    filtered_lines = []\n",
        "\n",
        "    if filter:\n",
        "        for i in range(len(lines)):\n",
        "            if line_flags[i]:\n",
        "                filtered_lines.append(lines[i])\n",
        "\n",
        "            print('Number of filtered lines:', len(filtered_lines ))\n",
        "    else:\n",
        "        filtered_lines = lines\n",
        "\n",
        "    for line in filtered_lines:\n",
        "        rho, theta = line [0]\n",
        "        a = np.cos(theta)\n",
        "        b = np.sin(theta)\n",
        "        x0 = a*rho\n",
        "        y0 = b*rho\n",
        "        x1 = int(x0 + 1000*(-b))\n",
        "        y1 = int(y0 + 1000*(a))\n",
        "        x2 = int(x0 - 1000*(-b))\n",
        "        y2 = int(y0 - 1000*(a))\n",
        "\n",
        "        cv.line(input_img, (x1, y1), (x2,y2),(0,0,255),2)\n",
        "\n",
        "    plt.figure(figsize=(20,10))\n",
        "    plt.imshow(cv.cvtColor(input_img, cv.COLOR_BGR2RGB))"
      ],
      "metadata": {
        "id": "Kyu_fRMQj12K"
      },
      "execution_count": null,
      "outputs": []
    },
    {
      "cell_type": "code",
      "source": [
        "img = cv.imread('/content/drive/MyDrive/PCVK/week11/laptop.jpg')\n",
        "img_gray = cv.cvtColor(img, cv.COLOR_BGR2GRAY)\n",
        "\n",
        "edged = cv.Canny(img_gray, 30, 200)\n",
        "\n",
        "contours, hierarchy = cv.findContours(edged, cv.RETR_EXTERNAL, cv.CHAIN_APPROX_NONE)\n",
        "\n",
        "cv.drawContours(img, contours, -1, (0,0,255), 3)\n",
        "\n",
        "plt.figure(figsize=(20,10))\n",
        "plt.imshow(cv.cvtColor(img, cv.COLOR_BGR2RGB))"
      ],
      "metadata": {
        "id": "tjGNaPc0kCGm"
      },
      "execution_count": null,
      "outputs": []
    }
  ]
}